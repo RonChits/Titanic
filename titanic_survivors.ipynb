{
  "cells": [
    {
      "cell_type": "markdown",
      "metadata": {
        "id": "view-in-github",
        "colab_type": "text"
      },
      "source": [
        "<a href=\"https://colab.research.google.com/github/RonChits/Titanic/blob/main/titanic_survivors.ipynb\" target=\"_parent\"><img src=\"https://colab.research.google.com/assets/colab-badge.svg\" alt=\"Open In Colab\"/></a>"
      ]
    },
    {
      "cell_type": "markdown",
      "id": "628c667a",
      "metadata": {
        "id": "628c667a"
      },
      "source": [
        "# Titanic survivors."
      ]
    },
    {
      "cell_type": "markdown",
      "id": "ac2364e9",
      "metadata": {
        "id": "ac2364e9"
      },
      "source": [
        "> Problem statement: “What sorts of people were more likely to survive?”"
      ]
    },
    {
      "cell_type": "markdown",
      "id": "8ebd4eae-f3ee-49b6-a180-f9d20e72e11e",
      "metadata": {
        "id": "8ebd4eae-f3ee-49b6-a180-f9d20e72e11e"
      },
      "source": [
        "## Modules."
      ]
    },
    {
      "cell_type": "code",
      "execution_count": null,
      "id": "0b21febf-c8e7-44b8-8d0f-ffe40eb7d7df",
      "metadata": {
        "id": "0b21febf-c8e7-44b8-8d0f-ffe40eb7d7df"
      },
      "outputs": [],
      "source": [
        "import pandas as pd\n",
        "import numpy as np\n",
        "import re\n",
        "import xgboost\n",
        "import category_encoders as ce\n",
        "import seaborn as sns\n",
        "import string\n",
        "import pickle\n",
        "import matplotlib.pyplot as plt\n",
        "import seaborn as sns\n",
        "\n",
        "# Sampling techniques.\n",
        "from imblearn.under_sampling import RandomUnderSampler\n",
        "from imblearn.over_sampling import RandomOverSampler, SMOTE\n",
        "\n",
        "# Classifiers.\n",
        "from xgboost import XGBClassifier\n",
        "from sklearn.linear_model import LogisticRegression\n",
        "from sklearn.neighbors import KNeighborsClassifier\n",
        "from sklearn.svm import SVC\n",
        "from sklearn.tree import DecisionTreeClassifier\n",
        "from sklearn.ensemble import RandomForestClassifier\n",
        "from sklearn.ensemble import StackingClassifier\n",
        "\n",
        "# Transformers.\n",
        "from sklearn.preprocessing import StandardScaler,  OneHotEncoder, LabelEncoder, FunctionTransformer\n",
        "\n",
        "# Metrics\n",
        "from sklearn.model_selection import train_test_split, GridSearchCV, cross_val_score\n",
        "from sklearn.metrics import roc_auc_score, accuracy_score, ConfusionMatrixDisplay,precision_score, f1_score, roc_curve , auc, confusion_matrix\n",
        "from sklearn.pipeline import Pipeline, make_pipeline"
      ]
    },
    {
      "cell_type": "markdown",
      "id": "e6c07189-16f8-44a4-ba22-e00c2727f9bf",
      "metadata": {
        "id": "e6c07189-16f8-44a4-ba22-e00c2727f9bf"
      },
      "source": [
        ">My Data."
      ]
    },
    {
      "cell_type": "code",
      "execution_count": null,
      "id": "f2cb864d-f6dd-4532-b474-473c2a49e293",
      "metadata": {
        "id": "f2cb864d-f6dd-4532-b474-473c2a49e293"
      },
      "outputs": [],
      "source": [
        "gender = pd.read_csv(\"gender_submission.csv\", index_col = 0)"
      ]
    },
    {
      "cell_type": "code",
      "execution_count": null,
      "id": "918d0c03-02fd-48d8-a5a4-ea3b59cc092a",
      "metadata": {
        "id": "918d0c03-02fd-48d8-a5a4-ea3b59cc092a"
      },
      "outputs": [],
      "source": [
        "train = pd.read_csv(\"train.csv\", index_col = 0)"
      ]
    },
    {
      "cell_type": "code",
      "execution_count": null,
      "id": "dc138812-30b4-4b27-b901-2a01c3728c8e",
      "metadata": {
        "id": "dc138812-30b4-4b27-b901-2a01c3728c8e"
      },
      "outputs": [],
      "source": [
        "test = pd.read_csv(\"test.csv\", index_col = 0)"
      ]
    },
    {
      "cell_type": "code",
      "execution_count": null,
      "id": "ede2da6d-1267-4103-b26b-68511ebd47a4",
      "metadata": {
        "id": "ede2da6d-1267-4103-b26b-68511ebd47a4",
        "outputId": "2c033d86-c46d-49bd-f700-de8c0182c069"
      },
      "outputs": [
        {
          "data": {
            "text/plain": [
              "(891, 11)"
            ]
          },
          "execution_count": 5,
          "metadata": {},
          "output_type": "execute_result"
        }
      ],
      "source": [
        "train.shape"
      ]
    },
    {
      "cell_type": "code",
      "execution_count": null,
      "id": "ee5fb97f-229e-4a3f-8747-96232647e1ae",
      "metadata": {
        "id": "ee5fb97f-229e-4a3f-8747-96232647e1ae",
        "outputId": "f4fdb3b6-ce8c-44fa-f00f-6107594620d8"
      },
      "outputs": [
        {
          "data": {
            "text/plain": [
              "(418, 10)"
            ]
          },
          "execution_count": 6,
          "metadata": {},
          "output_type": "execute_result"
        }
      ],
      "source": [
        "test.shape"
      ]
    },
    {
      "cell_type": "code",
      "execution_count": null,
      "id": "fcbf9726-399c-4256-bc19-c5d68b3bb48a",
      "metadata": {
        "id": "fcbf9726-399c-4256-bc19-c5d68b3bb48a"
      },
      "outputs": [],
      "source": [
        "df = pd.concat([train, test])"
      ]
    },
    {
      "cell_type": "code",
      "execution_count": null,
      "id": "1a02b31c-6cf5-4cd7-8980-f09fcddbb7f9",
      "metadata": {
        "id": "1a02b31c-6cf5-4cd7-8980-f09fcddbb7f9",
        "outputId": "ff99752c-5474-4da2-e9d6-e9908424f206"
      },
      "outputs": [
        {
          "data": {
            "text/html": [
              "<div>\n",
              "<style scoped>\n",
              "    .dataframe tbody tr th:only-of-type {\n",
              "        vertical-align: middle;\n",
              "    }\n",
              "\n",
              "    .dataframe tbody tr th {\n",
              "        vertical-align: top;\n",
              "    }\n",
              "\n",
              "    .dataframe thead th {\n",
              "        text-align: right;\n",
              "    }\n",
              "</style>\n",
              "<table border=\"1\" class=\"dataframe\">\n",
              "  <thead>\n",
              "    <tr style=\"text-align: right;\">\n",
              "      <th></th>\n",
              "      <th>Survived</th>\n",
              "      <th>Pclass</th>\n",
              "      <th>Name</th>\n",
              "      <th>Sex</th>\n",
              "      <th>Age</th>\n",
              "      <th>SibSp</th>\n",
              "      <th>Parch</th>\n",
              "      <th>Ticket</th>\n",
              "      <th>Fare</th>\n",
              "      <th>Cabin</th>\n",
              "      <th>Embarked</th>\n",
              "    </tr>\n",
              "    <tr>\n",
              "      <th>PassengerId</th>\n",
              "      <th></th>\n",
              "      <th></th>\n",
              "      <th></th>\n",
              "      <th></th>\n",
              "      <th></th>\n",
              "      <th></th>\n",
              "      <th></th>\n",
              "      <th></th>\n",
              "      <th></th>\n",
              "      <th></th>\n",
              "      <th></th>\n",
              "    </tr>\n",
              "  </thead>\n",
              "  <tbody>\n",
              "    <tr>\n",
              "      <th>1</th>\n",
              "      <td>0.0</td>\n",
              "      <td>3</td>\n",
              "      <td>Braund, Mr. Owen Harris</td>\n",
              "      <td>male</td>\n",
              "      <td>22.0</td>\n",
              "      <td>1</td>\n",
              "      <td>0</td>\n",
              "      <td>A/5 21171</td>\n",
              "      <td>7.2500</td>\n",
              "      <td>NaN</td>\n",
              "      <td>S</td>\n",
              "    </tr>\n",
              "    <tr>\n",
              "      <th>2</th>\n",
              "      <td>1.0</td>\n",
              "      <td>1</td>\n",
              "      <td>Cumings, Mrs. John Bradley (Florence Briggs Th...</td>\n",
              "      <td>female</td>\n",
              "      <td>38.0</td>\n",
              "      <td>1</td>\n",
              "      <td>0</td>\n",
              "      <td>PC 17599</td>\n",
              "      <td>71.2833</td>\n",
              "      <td>C85</td>\n",
              "      <td>C</td>\n",
              "    </tr>\n",
              "    <tr>\n",
              "      <th>3</th>\n",
              "      <td>1.0</td>\n",
              "      <td>3</td>\n",
              "      <td>Heikkinen, Miss. Laina</td>\n",
              "      <td>female</td>\n",
              "      <td>26.0</td>\n",
              "      <td>0</td>\n",
              "      <td>0</td>\n",
              "      <td>STON/O2. 3101282</td>\n",
              "      <td>7.9250</td>\n",
              "      <td>NaN</td>\n",
              "      <td>S</td>\n",
              "    </tr>\n",
              "    <tr>\n",
              "      <th>4</th>\n",
              "      <td>1.0</td>\n",
              "      <td>1</td>\n",
              "      <td>Futrelle, Mrs. Jacques Heath (Lily May Peel)</td>\n",
              "      <td>female</td>\n",
              "      <td>35.0</td>\n",
              "      <td>1</td>\n",
              "      <td>0</td>\n",
              "      <td>113803</td>\n",
              "      <td>53.1000</td>\n",
              "      <td>C123</td>\n",
              "      <td>S</td>\n",
              "    </tr>\n",
              "    <tr>\n",
              "      <th>5</th>\n",
              "      <td>0.0</td>\n",
              "      <td>3</td>\n",
              "      <td>Allen, Mr. William Henry</td>\n",
              "      <td>male</td>\n",
              "      <td>35.0</td>\n",
              "      <td>0</td>\n",
              "      <td>0</td>\n",
              "      <td>373450</td>\n",
              "      <td>8.0500</td>\n",
              "      <td>NaN</td>\n",
              "      <td>S</td>\n",
              "    </tr>\n",
              "  </tbody>\n",
              "</table>\n",
              "</div>"
            ],
            "text/plain": [
              "             Survived  Pclass  \\\n",
              "PassengerId                     \n",
              "1                 0.0       3   \n",
              "2                 1.0       1   \n",
              "3                 1.0       3   \n",
              "4                 1.0       1   \n",
              "5                 0.0       3   \n",
              "\n",
              "                                                          Name     Sex   Age  \\\n",
              "PassengerId                                                                    \n",
              "1                                      Braund, Mr. Owen Harris    male  22.0   \n",
              "2            Cumings, Mrs. John Bradley (Florence Briggs Th...  female  38.0   \n",
              "3                                       Heikkinen, Miss. Laina  female  26.0   \n",
              "4                 Futrelle, Mrs. Jacques Heath (Lily May Peel)  female  35.0   \n",
              "5                                     Allen, Mr. William Henry    male  35.0   \n",
              "\n",
              "             SibSp  Parch            Ticket     Fare Cabin Embarked  \n",
              "PassengerId                                                          \n",
              "1                1      0         A/5 21171   7.2500   NaN        S  \n",
              "2                1      0          PC 17599  71.2833   C85        C  \n",
              "3                0      0  STON/O2. 3101282   7.9250   NaN        S  \n",
              "4                1      0            113803  53.1000  C123        S  \n",
              "5                0      0            373450   8.0500   NaN        S  "
            ]
          },
          "execution_count": 8,
          "metadata": {},
          "output_type": "execute_result"
        }
      ],
      "source": [
        "df.head()"
      ]
    },
    {
      "cell_type": "code",
      "execution_count": null,
      "id": "05efef62-a771-4360-a9c0-d136bc7c69f5",
      "metadata": {
        "id": "05efef62-a771-4360-a9c0-d136bc7c69f5",
        "outputId": "02e3e212-73ea-442c-ed8b-3c40c2fb80f5"
      },
      "outputs": [
        {
          "data": {
            "text/plain": [
              "(1309, 11)"
            ]
          },
          "execution_count": 9,
          "metadata": {},
          "output_type": "execute_result"
        }
      ],
      "source": [
        "df.shape"
      ]
    },
    {
      "cell_type": "markdown",
      "id": "dccb83f1-eb73-4f18-bfa2-c040afd94333",
      "metadata": {
        "id": "dccb83f1-eb73-4f18-bfa2-c040afd94333"
      },
      "source": [
        "### Gender"
      ]
    },
    {
      "cell_type": "code",
      "execution_count": null,
      "id": "68481998-6638-47ce-b764-543a1e570850",
      "metadata": {
        "id": "68481998-6638-47ce-b764-543a1e570850",
        "outputId": "14cf837b-b6f3-4288-c8b5-412f2b076347"
      },
      "outputs": [
        {
          "name": "stdout",
          "output_type": "stream",
          "text": [
            "<class 'pandas.core.frame.DataFrame'>\n",
            "Int64Index: 418 entries, 892 to 1309\n",
            "Data columns (total 1 columns):\n",
            " #   Column    Non-Null Count  Dtype\n",
            "---  ------    --------------  -----\n",
            " 0   Survived  418 non-null    int64\n",
            "dtypes: int64(1)\n",
            "memory usage: 6.5 KB\n"
          ]
        }
      ],
      "source": [
        "gender.info()"
      ]
    },
    {
      "cell_type": "code",
      "execution_count": null,
      "id": "cce017a5-67b6-4756-a225-fbaec82b4261",
      "metadata": {
        "id": "cce017a5-67b6-4756-a225-fbaec82b4261",
        "outputId": "a756c66e-dacc-405a-ff03-de7ff17e541b"
      },
      "outputs": [
        {
          "data": {
            "text/html": [
              "<div>\n",
              "<style scoped>\n",
              "    .dataframe tbody tr th:only-of-type {\n",
              "        vertical-align: middle;\n",
              "    }\n",
              "\n",
              "    .dataframe tbody tr th {\n",
              "        vertical-align: top;\n",
              "    }\n",
              "\n",
              "    .dataframe thead th {\n",
              "        text-align: right;\n",
              "    }\n",
              "</style>\n",
              "<table border=\"1\" class=\"dataframe\">\n",
              "  <thead>\n",
              "    <tr style=\"text-align: right;\">\n",
              "      <th></th>\n",
              "      <th>Survived</th>\n",
              "    </tr>\n",
              "    <tr>\n",
              "      <th>PassengerId</th>\n",
              "      <th></th>\n",
              "    </tr>\n",
              "  </thead>\n",
              "  <tbody>\n",
              "    <tr>\n",
              "      <th>892</th>\n",
              "      <td>0</td>\n",
              "    </tr>\n",
              "    <tr>\n",
              "      <th>893</th>\n",
              "      <td>1</td>\n",
              "    </tr>\n",
              "    <tr>\n",
              "      <th>894</th>\n",
              "      <td>0</td>\n",
              "    </tr>\n",
              "    <tr>\n",
              "      <th>895</th>\n",
              "      <td>0</td>\n",
              "    </tr>\n",
              "    <tr>\n",
              "      <th>896</th>\n",
              "      <td>1</td>\n",
              "    </tr>\n",
              "  </tbody>\n",
              "</table>\n",
              "</div>"
            ],
            "text/plain": [
              "             Survived\n",
              "PassengerId          \n",
              "892                 0\n",
              "893                 1\n",
              "894                 0\n",
              "895                 0\n",
              "896                 1"
            ]
          },
          "execution_count": 11,
          "metadata": {},
          "output_type": "execute_result"
        }
      ],
      "source": [
        "gender.head()"
      ]
    },
    {
      "cell_type": "code",
      "execution_count": null,
      "id": "024b011f-441b-4146-961f-484e0a93a029",
      "metadata": {
        "id": "024b011f-441b-4146-961f-484e0a93a029",
        "outputId": "d44bad93-f43d-411f-aa7b-fe5b05ec20fa"
      },
      "outputs": [
        {
          "data": {
            "text/plain": [
              "(418, 1)"
            ]
          },
          "execution_count": 12,
          "metadata": {},
          "output_type": "execute_result"
        }
      ],
      "source": [
        "gender.shape"
      ]
    },
    {
      "cell_type": "code",
      "execution_count": null,
      "id": "1a7300e6-f566-4539-ab33-7fe9a4a0064e",
      "metadata": {
        "id": "1a7300e6-f566-4539-ab33-7fe9a4a0064e",
        "outputId": "0e610b46-a9dd-4522-e5c7-0bcc110ef315"
      },
      "outputs": [
        {
          "data": {
            "image/png": "[encoded data removed]",
            "text/plain": [
              "<Figure size 640x480 with 1 Axes>"
            ]
          },
          "metadata": {},
          "output_type": "display_data"
        }
      ],
      "source": [
        "gender.hist()\n",
        "plt.show()"
      ]
    },
    {
      "cell_type": "markdown",
      "id": "71951b65-76f9-4c3e-9680-1fc2d00a0de7",
      "metadata": {
        "id": "71951b65-76f9-4c3e-9680-1fc2d00a0de7"
      },
      "source": [
        "> Is there any missing values?"
      ]
    },
    {
      "cell_type": "code",
      "execution_count": null,
      "id": "6b8d33f0-a09f-4265-a191-12316488b8f9",
      "metadata": {
        "id": "6b8d33f0-a09f-4265-a191-12316488b8f9",
        "outputId": "462e477f-b274-49c7-ae81-4bdd1561aa63"
      },
      "outputs": [
        {
          "data": {
            "text/plain": [
              "Survived    0\n",
              "dtype: int64"
            ]
          },
          "execution_count": 14,
          "metadata": {},
          "output_type": "execute_result"
        }
      ],
      "source": [
        "gender.isnull().sum()"
      ]
    },
    {
      "cell_type": "markdown",
      "id": "fe16e237-7039-4da2-b3b7-88ceddb51707",
      "metadata": {
        "id": "fe16e237-7039-4da2-b3b7-88ceddb51707"
      },
      "source": [
        ">Imbalance checking."
      ]
    },
    {
      "cell_type": "code",
      "execution_count": null,
      "id": "29685165-3f3f-4471-91ac-25eab6ce2069",
      "metadata": {
        "id": "29685165-3f3f-4471-91ac-25eab6ce2069",
        "outputId": "2f8b037a-7958-455b-d694-c9a90d9feaf2"
      },
      "outputs": [
        {
          "data": {
            "text/plain": [
              "0    266\n",
              "1    152\n",
              "Name: Survived, dtype: int64"
            ]
          },
          "execution_count": 15,
          "metadata": {},
          "output_type": "execute_result"
        }
      ],
      "source": [
        "gender['Survived'].value_counts()"
      ]
    },
    {
      "cell_type": "markdown",
      "id": "5b4b5665-52fc-4cb2-b1a9-daa97d700426",
      "metadata": {
        "id": "5b4b5665-52fc-4cb2-b1a9-daa97d700426"
      },
      "source": [
        "## Train set"
      ]
    },
    {
      "cell_type": "code",
      "execution_count": null,
      "id": "ff55b45b-fce8-4a71-a690-187b15c800f6",
      "metadata": {
        "id": "ff55b45b-fce8-4a71-a690-187b15c800f6",
        "outputId": "74d2089f-490e-47bd-fd52-738d7d8be5cc"
      },
      "outputs": [
        {
          "data": {
            "text/plain": [
              "(891, 11)"
            ]
          },
          "execution_count": 16,
          "metadata": {},
          "output_type": "execute_result"
        }
      ],
      "source": [
        "train.shape"
      ]
    },
    {
      "cell_type": "code",
      "execution_count": null,
      "id": "98f9cbb6-817f-4e40-a865-f1f046a60771",
      "metadata": {
        "id": "98f9cbb6-817f-4e40-a865-f1f046a60771",
        "outputId": "88a1180a-1347-4393-9b65-57f286fcdf28"
      },
      "outputs": [
        {
          "name": "stdout",
          "output_type": "stream",
          "text": [
            "<class 'pandas.core.frame.DataFrame'>\n",
            "Int64Index: 891 entries, 1 to 891\n",
            "Data columns (total 11 columns):\n",
            " #   Column    Non-Null Count  Dtype  \n",
            "---  ------    --------------  -----  \n",
            " 0   Survived  891 non-null    int64  \n",
            " 1   Pclass    891 non-null    int64  \n",
            " 2   Name      891 non-null    object \n",
            " 3   Sex       891 non-null    object \n",
            " 4   Age       714 non-null    float64\n",
            " 5   SibSp     891 non-null    int64  \n",
            " 6   Parch     891 non-null    int64  \n",
            " 7   Ticket    891 non-null    object \n",
            " 8   Fare      891 non-null    float64\n",
            " 9   Cabin     204 non-null    object \n",
            " 10  Embarked  889 non-null    object \n",
            "dtypes: float64(2), int64(4), object(5)\n",
            "memory usage: 83.5+ KB\n"
          ]
        }
      ],
      "source": [
        "train.info()"
      ]
    },
    {
      "cell_type": "code",
      "execution_count": null,
      "id": "18095bd7-33a2-4234-af7e-5ca0784077d1",
      "metadata": {
        "id": "18095bd7-33a2-4234-af7e-5ca0784077d1",
        "outputId": "98cd97e0-5087-445b-edb3-2d5f80037e7a"
      },
      "outputs": [
        {
          "data": {
            "text/html": [
              "<div>\n",
              "<style scoped>\n",
              "    .dataframe tbody tr th:only-of-type {\n",
              "        vertical-align: middle;\n",
              "    }\n",
              "\n",
              "    .dataframe tbody tr th {\n",
              "        vertical-align: top;\n",
              "    }\n",
              "\n",
              "    .dataframe thead th {\n",
              "        text-align: right;\n",
              "    }\n",
              "</style>\n",
              "<table border=\"1\" class=\"dataframe\">\n",
              "  <thead>\n",
              "    <tr style=\"text-align: right;\">\n",
              "      <th></th>\n",
              "      <th>Survived</th>\n",
              "      <th>Pclass</th>\n",
              "      <th>Name</th>\n",
              "      <th>Sex</th>\n",
              "      <th>Age</th>\n",
              "      <th>SibSp</th>\n",
              "      <th>Parch</th>\n",
              "      <th>Ticket</th>\n",
              "      <th>Fare</th>\n",
              "      <th>Cabin</th>\n",
              "      <th>Embarked</th>\n",
              "    </tr>\n",
              "    <tr>\n",
              "      <th>PassengerId</th>\n",
              "      <th></th>\n",
              "      <th></th>\n",
              "      <th></th>\n",
              "      <th></th>\n",
              "      <th></th>\n",
              "      <th></th>\n",
              "      <th></th>\n",
              "      <th></th>\n",
              "      <th></th>\n",
              "      <th></th>\n",
              "      <th></th>\n",
              "    </tr>\n",
              "  </thead>\n",
              "  <tbody>\n",
              "    <tr>\n",
              "      <th>1</th>\n",
              "      <td>0</td>\n",
              "      <td>3</td>\n",
              "      <td>Braund, Mr. Owen Harris</td>\n",
              "      <td>male</td>\n",
              "      <td>22.0</td>\n",
              "      <td>1</td>\n",
              "      <td>0</td>\n",
              "      <td>A/5 21171</td>\n",
              "      <td>7.2500</td>\n",
              "      <td>NaN</td>\n",
              "      <td>S</td>\n",
              "    </tr>\n",
              "    <tr>\n",
              "      <th>2</th>\n",
              "      <td>1</td>\n",
              "      <td>1</td>\n",
              "      <td>Cumings, Mrs. John Bradley (Florence Briggs Th...</td>\n",
              "      <td>female</td>\n",
              "      <td>38.0</td>\n",
              "      <td>1</td>\n",
              "      <td>0</td>\n",
              "      <td>PC 17599</td>\n",
              "      <td>71.2833</td>\n",
              "      <td>C85</td>\n",
              "      <td>C</td>\n",
              "    </tr>\n",
              "    <tr>\n",
              "      <th>3</th>\n",
              "      <td>1</td>\n",
              "      <td>3</td>\n",
              "      <td>Heikkinen, Miss. Laina</td>\n",
              "      <td>female</td>\n",
              "      <td>26.0</td>\n",
              "      <td>0</td>\n",
              "      <td>0</td>\n",
              "      <td>STON/O2. 3101282</td>\n",
              "      <td>7.9250</td>\n",
              "      <td>NaN</td>\n",
              "      <td>S</td>\n",
              "    </tr>\n",
              "    <tr>\n",
              "      <th>4</th>\n",
              "      <td>1</td>\n",
              "      <td>1</td>\n",
              "      <td>Futrelle, Mrs. Jacques Heath (Lily May Peel)</td>\n",
              "      <td>female</td>\n",
              "      <td>35.0</td>\n",
              "      <td>1</td>\n",
              "      <td>0</td>\n",
              "      <td>113803</td>\n",
              "      <td>53.1000</td>\n",
              "      <td>C123</td>\n",
              "      <td>S</td>\n",
              "    </tr>\n",
              "    <tr>\n",
              "      <th>5</th>\n",
              "      <td>0</td>\n",
              "      <td>3</td>\n",
              "      <td>Allen, Mr. William Henry</td>\n",
              "      <td>male</td>\n",
              "      <td>35.0</td>\n",
              "      <td>0</td>\n",
              "      <td>0</td>\n",
              "      <td>373450</td>\n",
              "      <td>8.0500</td>\n",
              "      <td>NaN</td>\n",
              "      <td>S</td>\n",
              "    </tr>\n",
              "    <tr>\n",
              "      <th>...</th>\n",
              "      <td>...</td>\n",
              "      <td>...</td>\n",
              "      <td>...</td>\n",
              "      <td>...</td>\n",
              "      <td>...</td>\n",
              "      <td>...</td>\n",
              "      <td>...</td>\n",
              "      <td>...</td>\n",
              "      <td>...</td>\n",
              "      <td>...</td>\n",
              "      <td>...</td>\n",
              "    </tr>\n",
              "    <tr>\n",
              "      <th>882</th>\n",
              "      <td>0</td>\n",
              "      <td>3</td>\n",
              "      <td>Markun, Mr. Johann</td>\n",
              "      <td>male</td>\n",
              "      <td>33.0</td>\n",
              "      <td>0</td>\n",
              "      <td>0</td>\n",
              "      <td>349257</td>\n",
              "      <td>7.8958</td>\n",
              "      <td>NaN</td>\n",
              "      <td>S</td>\n",
              "    </tr>\n",
              "    <tr>\n",
              "      <th>883</th>\n",
              "      <td>0</td>\n",
              "      <td>3</td>\n",
              "      <td>Dahlberg, Miss. Gerda Ulrika</td>\n",
              "      <td>female</td>\n",
              "      <td>22.0</td>\n",
              "      <td>0</td>\n",
              "      <td>0</td>\n",
              "      <td>7552</td>\n",
              "      <td>10.5167</td>\n",
              "      <td>NaN</td>\n",
              "      <td>S</td>\n",
              "    </tr>\n",
              "    <tr>\n",
              "      <th>884</th>\n",
              "      <td>0</td>\n",
              "      <td>2</td>\n",
              "      <td>Banfield, Mr. Frederick James</td>\n",
              "      <td>male</td>\n",
              "      <td>28.0</td>\n",
              "      <td>0</td>\n",
              "      <td>0</td>\n",
              "      <td>C.A./SOTON 34068</td>\n",
              "      <td>10.5000</td>\n",
              "      <td>NaN</td>\n",
              "      <td>S</td>\n",
              "    </tr>\n",
              "    <tr>\n",
              "      <th>885</th>\n",
              "      <td>0</td>\n",
              "      <td>3</td>\n",
              "      <td>Sutehall, Mr. Henry Jr</td>\n",
              "      <td>male</td>\n",
              "      <td>25.0</td>\n",
              "      <td>0</td>\n",
              "      <td>0</td>\n",
              "      <td>SOTON/OQ 392076</td>\n",
              "      <td>7.0500</td>\n",
              "      <td>NaN</td>\n",
              "      <td>S</td>\n",
              "    </tr>\n",
              "    <tr>\n",
              "      <th>886</th>\n",
              "      <td>0</td>\n",
              "      <td>3</td>\n",
              "      <td>Rice, Mrs. William (Margaret Norton)</td>\n",
              "      <td>female</td>\n",
              "      <td>39.0</td>\n",
              "      <td>0</td>\n",
              "      <td>5</td>\n",
              "      <td>382652</td>\n",
              "      <td>29.1250</td>\n",
              "      <td>NaN</td>\n",
              "      <td>Q</td>\n",
              "    </tr>\n",
              "  </tbody>\n",
              "</table>\n",
              "<p>886 rows × 11 columns</p>\n",
              "</div>"
            ],
            "text/plain": [
              "             Survived  Pclass  \\\n",
              "PassengerId                     \n",
              "1                   0       3   \n",
              "2                   1       1   \n",
              "3                   1       3   \n",
              "4                   1       1   \n",
              "5                   0       3   \n",
              "...               ...     ...   \n",
              "882                 0       3   \n",
              "883                 0       3   \n",
              "884                 0       2   \n",
              "885                 0       3   \n",
              "886                 0       3   \n",
              "\n",
              "                                                          Name     Sex   Age  \\\n",
              "PassengerId                                                                    \n",
              "1                                      Braund, Mr. Owen Harris    male  22.0   \n",
              "2            Cumings, Mrs. John Bradley (Florence Briggs Th...  female  38.0   \n",
              "3                                       Heikkinen, Miss. Laina  female  26.0   \n",
              "4                 Futrelle, Mrs. Jacques Heath (Lily May Peel)  female  35.0   \n",
              "5                                     Allen, Mr. William Henry    male  35.0   \n",
              "...                                                        ...     ...   ...   \n",
              "882                                         Markun, Mr. Johann    male  33.0   \n",
              "883                               Dahlberg, Miss. Gerda Ulrika  female  22.0   \n",
              "884                              Banfield, Mr. Frederick James    male  28.0   \n",
              "885                                     Sutehall, Mr. Henry Jr    male  25.0   \n",
              "886                       Rice, Mrs. William (Margaret Norton)  female  39.0   \n",
              "\n",
              "             SibSp  Parch            Ticket     Fare Cabin Embarked  \n",
              "PassengerId                                                          \n",
              "1                1      0         A/5 21171   7.2500   NaN        S  \n",
              "2                1      0          PC 17599  71.2833   C85        C  \n",
              "3                0      0  STON/O2. 3101282   7.9250   NaN        S  \n",
              "4                1      0            113803  53.1000  C123        S  \n",
              "5                0      0            373450   8.0500   NaN        S  \n",
              "...            ...    ...               ...      ...   ...      ...  \n",
              "882              0      0            349257   7.8958   NaN        S  \n",
              "883              0      0              7552  10.5167   NaN        S  \n",
              "884              0      0  C.A./SOTON 34068  10.5000   NaN        S  \n",
              "885              0      0   SOTON/OQ 392076   7.0500   NaN        S  \n",
              "886              0      5            382652  29.1250   NaN        Q  \n",
              "\n",
              "[886 rows x 11 columns]"
            ]
          },
          "execution_count": 18,
          "metadata": {},
          "output_type": "execute_result"
        }
      ],
      "source": [
        "train.head(-5)"
      ]
    },
    {
      "cell_type": "code",
      "execution_count": null,
      "id": "90f59efc-5296-423b-b2cb-89bc0e9386d2",
      "metadata": {
        "id": "90f59efc-5296-423b-b2cb-89bc0e9386d2",
        "outputId": "4ce6b5cd-03ab-434b-c2d2-326ddfc80dce"
      },
      "outputs": [
        {
          "data": {
            "text/plain": [
              "0    549\n",
              "1    342\n",
              "Name: Survived, dtype: int64"
            ]
          },
          "execution_count": 19,
          "metadata": {},
          "output_type": "execute_result"
        }
      ],
      "source": [
        "train['Survived'].value_counts()"
      ]
    },
    {
      "cell_type": "code",
      "execution_count": null,
      "id": "a62be46e-d1ca-420e-9d39-e3e0d2b790f2",
      "metadata": {
        "id": "a62be46e-d1ca-420e-9d39-e3e0d2b790f2",
        "outputId": "0523fb17-5e9e-499c-f8f6-184d83463616"
      },
      "outputs": [
        {
          "data": {
            "text/plain": [
              "Survived      0\n",
              "Pclass        0\n",
              "Name          0\n",
              "Sex           0\n",
              "Age         177\n",
              "SibSp         0\n",
              "Parch         0\n",
              "Ticket        0\n",
              "Fare          0\n",
              "Cabin       687\n",
              "Embarked      2\n",
              "dtype: int64"
            ]
          },
          "execution_count": 20,
          "metadata": {},
          "output_type": "execute_result"
        }
      ],
      "source": [
        "train.isnull().sum()"
      ]
    },
    {
      "cell_type": "markdown",
      "id": "8e0a53cc-da52-4fad-984d-938507230d0c",
      "metadata": {
        "id": "8e0a53cc-da52-4fad-984d-938507230d0c"
      },
      "source": [
        "> Cabin is showing a large part that has missing values, and this pose a big problem as to use this feature."
      ]
    },
    {
      "cell_type": "code",
      "execution_count": null,
      "id": "36e5f1d8-6b9a-40e2-a5a4-ca2f03b18143",
      "metadata": {
        "id": "36e5f1d8-6b9a-40e2-a5a4-ca2f03b18143",
        "outputId": "360fb11d-ff8f-45eb-fe6b-26817d926073"
      },
      "outputs": [
        {
          "data": {
            "text/html": [
              "<div>\n",
              "<style scoped>\n",
              "    .dataframe tbody tr th:only-of-type {\n",
              "        vertical-align: middle;\n",
              "    }\n",
              "\n",
              "    .dataframe tbody tr th {\n",
              "        vertical-align: top;\n",
              "    }\n",
              "\n",
              "    .dataframe thead th {\n",
              "        text-align: right;\n",
              "    }\n",
              "</style>\n",
              "<table border=\"1\" class=\"dataframe\">\n",
              "  <thead>\n",
              "    <tr style=\"text-align: right;\">\n",
              "      <th></th>\n",
              "      <th>Survived</th>\n",
              "      <th>Pclass</th>\n",
              "      <th>Age</th>\n",
              "      <th>SibSp</th>\n",
              "      <th>Parch</th>\n",
              "      <th>Fare</th>\n",
              "    </tr>\n",
              "  </thead>\n",
              "  <tbody>\n",
              "    <tr>\n",
              "      <th>count</th>\n",
              "      <td>891.000000</td>\n",
              "      <td>891.000000</td>\n",
              "      <td>714.000000</td>\n",
              "      <td>891.000000</td>\n",
              "      <td>891.000000</td>\n",
              "      <td>891.000000</td>\n",
              "    </tr>\n",
              "    <tr>\n",
              "      <th>mean</th>\n",
              "      <td>0.383838</td>\n",
              "      <td>2.308642</td>\n",
              "      <td>29.699118</td>\n",
              "      <td>0.523008</td>\n",
              "      <td>0.381594</td>\n",
              "      <td>32.204208</td>\n",
              "    </tr>\n",
              "    <tr>\n",
              "      <th>std</th>\n",
              "      <td>0.486592</td>\n",
              "      <td>0.836071</td>\n",
              "      <td>14.526497</td>\n",
              "      <td>1.102743</td>\n",
              "      <td>0.806057</td>\n",
              "      <td>49.693429</td>\n",
              "    </tr>\n",
              "    <tr>\n",
              "      <th>min</th>\n",
              "      <td>0.000000</td>\n",
              "      <td>1.000000</td>\n",
              "      <td>0.420000</td>\n",
              "      <td>0.000000</td>\n",
              "      <td>0.000000</td>\n",
              "      <td>0.000000</td>\n",
              "    </tr>\n",
              "    <tr>\n",
              "      <th>25%</th>\n",
              "      <td>0.000000</td>\n",
              "      <td>2.000000</td>\n",
              "      <td>20.125000</td>\n",
              "      <td>0.000000</td>\n",
              "      <td>0.000000</td>\n",
              "      <td>7.910400</td>\n",
              "    </tr>\n",
              "    <tr>\n",
              "      <th>50%</th>\n",
              "      <td>0.000000</td>\n",
              "      <td>3.000000</td>\n",
              "      <td>28.000000</td>\n",
              "      <td>0.000000</td>\n",
              "      <td>0.000000</td>\n",
              "      <td>14.454200</td>\n",
              "    </tr>\n",
              "    <tr>\n",
              "      <th>75%</th>\n",
              "      <td>1.000000</td>\n",
              "      <td>3.000000</td>\n",
              "      <td>38.000000</td>\n",
              "      <td>1.000000</td>\n",
              "      <td>0.000000</td>\n",
              "      <td>31.000000</td>\n",
              "    </tr>\n",
              "    <tr>\n",
              "      <th>max</th>\n",
              "      <td>1.000000</td>\n",
              "      <td>3.000000</td>\n",
              "      <td>80.000000</td>\n",
              "      <td>8.000000</td>\n",
              "      <td>6.000000</td>\n",
              "      <td>512.329200</td>\n",
              "    </tr>\n",
              "  </tbody>\n",
              "</table>\n",
              "</div>"
            ],
            "text/plain": [
              "         Survived      Pclass         Age       SibSp       Parch        Fare\n",
              "count  891.000000  891.000000  714.000000  891.000000  891.000000  891.000000\n",
              "mean     0.383838    2.308642   29.699118    0.523008    0.381594   32.204208\n",
              "std      0.486592    0.836071   14.526497    1.102743    0.806057   49.693429\n",
              "min      0.000000    1.000000    0.420000    0.000000    0.000000    0.000000\n",
              "25%      0.000000    2.000000   20.125000    0.000000    0.000000    7.910400\n",
              "50%      0.000000    3.000000   28.000000    0.000000    0.000000   14.454200\n",
              "75%      1.000000    3.000000   38.000000    1.000000    0.000000   31.000000\n",
              "max      1.000000    3.000000   80.000000    8.000000    6.000000  512.329200"
            ]
          },
          "execution_count": 21,
          "metadata": {},
          "output_type": "execute_result"
        }
      ],
      "source": [
        "train.describe()"
      ]
    },
    {
      "cell_type": "markdown",
      "id": "4540230f",
      "metadata": {
        "id": "4540230f"
      },
      "source": [
        ">"
      ]
    },
    {
      "cell_type": "markdown",
      "id": "79896ef0",
      "metadata": {
        "id": "79896ef0"
      },
      "source": [
        "* Distribution on dataset to train the model."
      ]
    },
    {
      "cell_type": "code",
      "execution_count": null,
      "id": "f321acc7-975a-4de6-b793-8550b1ebbe92",
      "metadata": {
        "id": "f321acc7-975a-4de6-b793-8550b1ebbe92",
        "outputId": "a671d6b2-31f9-4ad4-baca-c2b7609d20c1"
      },
      "outputs": [
        {
          "data": {
            "image/png": "[encoded data removed]",
            "text/plain": [
              "<Figure size 1500x1500 with 6 Axes>"
            ]
          },
          "metadata": {},
          "output_type": "display_data"
        }
      ],
      "source": [
        "train.hist(figsize=(15, 15))\n",
        "plt.show()"
      ]
    },
    {
      "cell_type": "markdown",
      "id": "dea9afce",
      "metadata": {
        "id": "dea9afce"
      },
      "source": [
        ">"
      ]
    },
    {
      "cell_type": "markdown",
      "id": "20e2e91e",
      "metadata": {
        "id": "20e2e91e"
      },
      "source": [
        "* Correlation between features is tested to avoid the bias in model training."
      ]
    },
    {
      "cell_type": "code",
      "execution_count": null,
      "id": "f8aa5335-c3a8-470e-8c52-2b6df4056a00",
      "metadata": {
        "id": "f8aa5335-c3a8-470e-8c52-2b6df4056a00",
        "outputId": "a5ea1ea1-745a-4b7a-9a7a-198a0c677fbf"
      },
      "outputs": [
        {
          "data": {
            "image/png": "[encoded data removed]",
            "text/plain": [
              "<Figure size 1500x900 with 2 Axes>"
            ]
          },
          "metadata": {},
          "output_type": "display_data"
        }
      ],
      "source": [
        "dfg = [\"Survived\", \"Pclass\", \"Age\", \"SibSp\", \"Parch\",\"Fare\"]\n",
        "corr_matrix = train[dfg].corr()\n",
        "\n",
        "# Create heatmap\n",
        "plt.figure(figsize=(15, 9))  # Adjust figure size as needed\n",
        "sns.heatmap(corr_matrix, annot=True, cmap='coolwarm')\n",
        "plt.title('Correlation Matrix')\n",
        "plt.show()"
      ]
    },
    {
      "cell_type": "markdown",
      "id": "867f7b57",
      "metadata": {
        "id": "867f7b57"
      },
      "source": [
        "* Some information about gender, so as to have clear observation as this may be a fact that females are considered vulnerable. And this leads to more females and children to survive."
      ]
    },
    {
      "cell_type": "code",
      "execution_count": null,
      "id": "c26fa9cc-78d7-4d4d-b1cc-41da8250e8c7",
      "metadata": {
        "id": "c26fa9cc-78d7-4d4d-b1cc-41da8250e8c7",
        "outputId": "6cfde5a0-078f-4f99-9b0a-c7c9b46c3560"
      },
      "outputs": [
        {
          "data": {
            "image/png": "[encoded data removed]",
            "text/plain": [
              "<Figure size 640x480 with 1 Axes>"
            ]
          },
          "metadata": {},
          "output_type": "display_data"
        }
      ],
      "source": [
        "# Plot class balance\n",
        "train[\"Sex\"].value_counts(normalize=True).plot(\n",
        "    kind=\"bar\",\n",
        "    xlabel=\"Gender\",\n",
        "    ylabel=\"Frequency\",\n",
        "    title=\"Status Balance\"\n",
        ");"
      ]
    },
    {
      "cell_type": "code",
      "execution_count": null,
      "id": "b2a49148",
      "metadata": {
        "id": "b2a49148",
        "outputId": "111c915d-6df8-48ff-e51a-35ae20aa5d76"
      },
      "outputs": [
        {
          "name": "stdout",
          "output_type": "stream",
          "text": [
            "data type: <class 'pandas.core.frame.DataFrame'>\n",
            "data shape: (2, 2)\n"
          ]
        },
        {
          "data": {
            "text/html": [
              "<div>\n",
              "<style scoped>\n",
              "    .dataframe tbody tr th:only-of-type {\n",
              "        vertical-align: middle;\n",
              "    }\n",
              "\n",
              "    .dataframe tbody tr th {\n",
              "        vertical-align: top;\n",
              "    }\n",
              "\n",
              "    .dataframe thead th {\n",
              "        text-align: right;\n",
              "    }\n",
              "</style>\n",
              "<table border=\"1\" class=\"dataframe\">\n",
              "  <thead>\n",
              "    <tr style=\"text-align: right;\">\n",
              "      <th>Sex</th>\n",
              "      <th>female</th>\n",
              "      <th>male</th>\n",
              "    </tr>\n",
              "    <tr>\n",
              "      <th>Survived</th>\n",
              "      <th></th>\n",
              "      <th></th>\n",
              "    </tr>\n",
              "  </thead>\n",
              "  <tbody>\n",
              "    <tr>\n",
              "      <th>0</th>\n",
              "      <td>81</td>\n",
              "      <td>468</td>\n",
              "    </tr>\n",
              "    <tr>\n",
              "      <th>1</th>\n",
              "      <td>233</td>\n",
              "      <td>109</td>\n",
              "    </tr>\n",
              "  </tbody>\n",
              "</table>\n",
              "</div>"
            ],
            "text/plain": [
              "Sex       female  male\n",
              "Survived              \n",
              "0             81   468\n",
              "1            233   109"
            ]
          },
          "execution_count": 25,
          "metadata": {},
          "output_type": "execute_result"
        }
      ],
      "source": [
        "data2 = pd.crosstab(\n",
        "    index=train[\"Survived\"],\n",
        "    columns=df[\"Sex\"],\n",
        "    normalize=False\n",
        ")\n",
        "\n",
        "print(\"data type:\", type(data2))\n",
        "print(\"data shape:\", data2.shape)\n",
        "data2"
      ]
    },
    {
      "cell_type": "code",
      "execution_count": null,
      "id": "5e254b82",
      "metadata": {
        "id": "5e254b82",
        "outputId": "f1b50eca-76df-4017-ff69-0bbca7917067"
      },
      "outputs": [
        {
          "data": {
            "image/png": "[encoded data removed]",
            "text/plain": [
              "<Figure size 640x480 with 1 Axes>"
            ]
          },
          "metadata": {},
          "output_type": "display_data"
        }
      ],
      "source": [
        "# Distribution of Surviving by Gender\n",
        "\n",
        "deceased = [data2['female'][1] / (data2['female'][0] + data2['female'][1]),\n",
        "             data2['male'][1] / (data2['male'][0] + data2['male'][1])]\n",
        "survived = [1 - deceased[0], 1 - deceased[1]]\n",
        "\n",
        "labels = ['Female', 'Male']\n",
        "\n",
        "plt.bar(labels, survived, label='Deceased')\n",
        "plt.bar(labels, deceased, bottom=survived, label='Survived')\n",
        "\n",
        "plt.xlabel('Gender')\n",
        "plt.ylabel('Proportion of Surviving')\n",
        "plt.title('Distribution of Surviving by Gender')\n",
        "_ = plt.legend()\n"
      ]
    },
    {
      "cell_type": "markdown",
      "id": "fa1b6d0d",
      "metadata": {
        "id": "fa1b6d0d"
      },
      "source": [
        "* From above by proportion males who died where more than females. And lets look into males with age."
      ]
    },
    {
      "cell_type": "code",
      "execution_count": null,
      "id": "074396ad",
      "metadata": {
        "id": "074396ad",
        "outputId": "0784a119-be8c-4ddd-876d-04b1393f950c"
      },
      "outputs": [
        {
          "data": {
            "text/html": [
              "<div>\n",
              "<style scoped>\n",
              "    .dataframe tbody tr th:only-of-type {\n",
              "        vertical-align: middle;\n",
              "    }\n",
              "\n",
              "    .dataframe tbody tr th {\n",
              "        vertical-align: top;\n",
              "    }\n",
              "\n",
              "    .dataframe thead th {\n",
              "        text-align: right;\n",
              "    }\n",
              "</style>\n",
              "<table border=\"1\" class=\"dataframe\">\n",
              "  <thead>\n",
              "    <tr style=\"text-align: right;\">\n",
              "      <th>Sex</th>\n",
              "      <th>male</th>\n",
              "    </tr>\n",
              "    <tr>\n",
              "      <th>Survived</th>\n",
              "      <th></th>\n",
              "    </tr>\n",
              "  </thead>\n",
              "  <tbody>\n",
              "    <tr>\n",
              "      <th>0</th>\n",
              "      <td>341</td>\n",
              "    </tr>\n",
              "    <tr>\n",
              "      <th>1</th>\n",
              "      <td>72</td>\n",
              "    </tr>\n",
              "    <tr>\n",
              "      <th>0</th>\n",
              "      <td>18</td>\n",
              "    </tr>\n",
              "    <tr>\n",
              "      <th>1</th>\n",
              "      <td>21</td>\n",
              "    </tr>\n",
              "  </tbody>\n",
              "</table>\n",
              "</div>"
            ],
            "text/plain": [
              "Sex       male\n",
              "Survived      \n",
              "0          341\n",
              "1           72\n",
              "0           18\n",
              "1           21"
            ]
          },
          "execution_count": 27,
          "metadata": {},
          "output_type": "execute_result"
        }
      ],
      "source": [
        "males = train[train['Sex'] == 'male']\n",
        "males_under15 = males[males['Age'] < 15]\n",
        "males_over15 = males[males['Age'] > 15]\n",
        "dt = pd.crosstab(\n",
        "    index=males_under15[\"Survived\"],\n",
        "    columns=df[\"Sex\"],\n",
        "    normalize=False\n",
        ")\n",
        "t = pd.crosstab(\n",
        "    index=males_over15[\"Survived\"],\n",
        "    columns=df[\"Sex\"],\n",
        "    normalize=False\n",
        ")\n",
        "\n",
        "dtt = pd.concat([t, dt])\n",
        "dtt"
      ]
    },
    {
      "cell_type": "markdown",
      "id": "0a980e5d",
      "metadata": {
        "id": "0a980e5d"
      },
      "source": [
        "* And from above we are seeing a big difference as man are older than 15 chance of surving was low, lets visualise the relationship."
      ]
    },
    {
      "cell_type": "code",
      "execution_count": null,
      "id": "7742576a",
      "metadata": {
        "id": "7742576a",
        "outputId": "f46b9ded-a990-48f9-e611-aa80852af4cc"
      },
      "outputs": [
        {
          "data": {
            "image/png": "[encoded data removed]",
            "text/plain": [
              "<Figure size 640x480 with 1 Axes>"
            ]
          },
          "metadata": {},
          "output_type": "display_data"
        }
      ],
      "source": [
        "# Distribution of Surviving by Age in Males.\n",
        "\n",
        "deceased = [dt['male'][1] / (dt['male'][0] + dt['male'][1]),\n",
        "             dt['male'][1] / (t['male'][0] + t['male'][1])]\n",
        "survived = [1 - deceased[0], 1 - deceased[1]]\n",
        "\n",
        "labels = ['Under 15', 'Over 15']\n",
        "\n",
        "plt.bar(labels, survived, label='Deceased')\n",
        "plt.bar(labels, deceased, bottom=survived, label='Survived')\n",
        "\n",
        "plt.xlabel('Age')\n",
        "plt.ylabel('Proportion of Surviving')\n",
        "plt.title('Distribution of Surviving by Age in Males')\n",
        "_ = plt.legend()"
      ]
    },
    {
      "cell_type": "markdown",
      "id": "2c6a36fd",
      "metadata": {
        "id": "2c6a36fd"
      },
      "source": [
        "* Incredible insight right?"
      ]
    },
    {
      "cell_type": "markdown",
      "id": "9ad3f392",
      "metadata": {
        "id": "9ad3f392"
      },
      "source": [
        ">"
      ]
    },
    {
      "cell_type": "markdown",
      "id": "96395bd7",
      "metadata": {
        "id": "96395bd7"
      },
      "source": [
        "* Lets look into females does age matter to their surviving?"
      ]
    },
    {
      "cell_type": "code",
      "execution_count": null,
      "id": "c0253cdc",
      "metadata": {
        "id": "c0253cdc",
        "outputId": "1023b537-646f-4932-eb84-b2a2706cf008"
      },
      "outputs": [
        {
          "data": {
            "text/html": [
              "<div>\n",
              "<style scoped>\n",
              "    .dataframe tbody tr th:only-of-type {\n",
              "        vertical-align: middle;\n",
              "    }\n",
              "\n",
              "    .dataframe tbody tr th {\n",
              "        vertical-align: top;\n",
              "    }\n",
              "\n",
              "    .dataframe thead th {\n",
              "        text-align: right;\n",
              "    }\n",
              "</style>\n",
              "<table border=\"1\" class=\"dataframe\">\n",
              "  <thead>\n",
              "    <tr style=\"text-align: right;\">\n",
              "      <th>Sex</th>\n",
              "      <th>female</th>\n",
              "    </tr>\n",
              "    <tr>\n",
              "      <th>Survived</th>\n",
              "      <th></th>\n",
              "    </tr>\n",
              "  </thead>\n",
              "  <tbody>\n",
              "    <tr>\n",
              "      <th>0</th>\n",
              "      <td>15</td>\n",
              "    </tr>\n",
              "    <tr>\n",
              "      <th>1</th>\n",
              "      <td>24</td>\n",
              "    </tr>\n",
              "    <tr>\n",
              "      <th>0</th>\n",
              "      <td>49</td>\n",
              "    </tr>\n",
              "    <tr>\n",
              "      <th>1</th>\n",
              "      <td>169</td>\n",
              "    </tr>\n",
              "  </tbody>\n",
              "</table>\n",
              "</div>"
            ],
            "text/plain": [
              "Sex       female\n",
              "Survived        \n",
              "0             15\n",
              "1             24\n",
              "0             49\n",
              "1            169"
            ]
          },
          "execution_count": 29,
          "metadata": {},
          "output_type": "execute_result"
        }
      ],
      "source": [
        "females = train[train['Sex'] == 'female']\n",
        "females_under15 = females[females['Age'] < 15]\n",
        "females_over15 = females[females['Age'] > 15]\n",
        "ft = pd.crosstab(\n",
        "    index=females_under15[\"Survived\"],\n",
        "    columns=df[\"Sex\"],\n",
        "    normalize=False\n",
        ")\n",
        "e = pd.crosstab(\n",
        "    index=females_over15[\"Survived\"],\n",
        "    columns=df[\"Sex\"],\n",
        "    normalize=False\n",
        ")\n",
        "\n",
        "fte = pd.concat([ft, e])\n",
        "fte"
      ]
    },
    {
      "cell_type": "code",
      "execution_count": null,
      "id": "974a4862",
      "metadata": {
        "id": "974a4862",
        "outputId": "f5a3b11c-0233-45d8-958d-7111962a55a8"
      },
      "outputs": [
        {
          "data": {
            "image/png": "[encoded data removed]",
            "text/plain": [
              "<Figure size 640x480 with 1 Axes>"
            ]
          },
          "metadata": {},
          "output_type": "display_data"
        }
      ],
      "source": [
        "# Distribution of Surviving by Age in females.\n",
        "\n",
        "deceasedf = [ft['female'][1] / (ft['female'][0] + ft['female'][1]),\n",
        "             e['female'][1] / (e['female'][0] + e['female'][1])]\n",
        "survivedf = [1 - deceasedf[0], 1 - deceasedf[1]]\n",
        "\n",
        "labels = ['Under 15', 'Over 15']\n",
        "\n",
        "plt.bar(labels, survivedf, label='Deceased')\n",
        "plt.bar(labels, deceasedf, bottom=survivedf, label='Survived')\n",
        "\n",
        "plt.xlabel('Age')\n",
        "plt.ylabel('Proportion of Surviving')\n",
        "plt.title('Distribution of Surviving by Age in Females')\n",
        "_ = plt.legend()"
      ]
    },
    {
      "cell_type": "markdown",
      "id": "bb04f137",
      "metadata": {
        "id": "bb04f137"
      },
      "source": [
        "* Generally females survived more proportinaly to their age groups, though here we see an anormaly over 15 yrs woman survived more than under 15, the case may be on \"saving yourself first\" scenario, leading to young girls failing to sieze opportunities to be first out of the ship."
      ]
    },
    {
      "cell_type": "markdown",
      "id": "42047b96",
      "metadata": {
        "id": "42047b96"
      },
      "source": [
        ">"
      ]
    },
    {
      "cell_type": "markdown",
      "id": "79048286",
      "metadata": {
        "id": "79048286"
      },
      "source": [
        "> Looking into dataset to train the model."
      ]
    },
    {
      "cell_type": "code",
      "execution_count": null,
      "id": "d3cf1cb7-eb8a-4812-a1cf-d13f83f327e4",
      "metadata": {
        "id": "d3cf1cb7-eb8a-4812-a1cf-d13f83f327e4",
        "outputId": "9cad8fdd-8ada-4d0f-a391-d55ebc138ffc"
      },
      "outputs": [
        {
          "name": "stdout",
          "output_type": "stream",
          "text": [
            "<class 'pandas.core.frame.DataFrame'>\n",
            "Int64Index: 1309 entries, 1 to 1309\n",
            "Data columns (total 11 columns):\n",
            " #   Column    Non-Null Count  Dtype  \n",
            "---  ------    --------------  -----  \n",
            " 0   Survived  891 non-null    float64\n",
            " 1   Pclass    1309 non-null   int64  \n",
            " 2   Name      1309 non-null   object \n",
            " 3   Sex       1309 non-null   object \n",
            " 4   Age       1046 non-null   float64\n",
            " 5   SibSp     1309 non-null   int64  \n",
            " 6   Parch     1309 non-null   int64  \n",
            " 7   Ticket    1309 non-null   object \n",
            " 8   Fare      1308 non-null   float64\n",
            " 9   Cabin     295 non-null    object \n",
            " 10  Embarked  1307 non-null   object \n",
            "dtypes: float64(3), int64(3), object(5)\n",
            "memory usage: 155.0+ KB\n"
          ]
        }
      ],
      "source": [
        "df.info()"
      ]
    },
    {
      "cell_type": "code",
      "execution_count": null,
      "id": "661e7e4f-bec4-434f-99b4-9138b5f7128a",
      "metadata": {
        "id": "661e7e4f-bec4-434f-99b4-9138b5f7128a",
        "outputId": "c6b2aec9-bd3c-41ef-ab56-d6785e78f501"
      },
      "outputs": [
        {
          "name": "stdout",
          "output_type": "stream",
          "text": [
            "X_train shape: (891, 9)\n",
            "y_train shape: (891,)\n",
            "X_test shape: (418, 9)\n",
            "y_test shape: (418,)\n"
          ]
        }
      ],
      "source": [
        "d = ['Name', 'Cabin']\n",
        "X = df.drop(d, axis=1)\n",
        "y = df['Survived']\n",
        "X_train, X_test, y_train, y_test = train_test_split(X, y, test_size = 0.319327731092, shuffle=False)\n",
        "\n",
        "print(\"X_train shape:\", X_train.shape)\n",
        "print(\"y_train shape:\", y_train.shape)\n",
        "print(\"X_test shape:\", X_test.shape)\n",
        "print(\"y_test shape:\", y_test.shape)"
      ]
    },
    {
      "cell_type": "code",
      "execution_count": null,
      "id": "28817e2e-743a-40ca-be85-0bbdca441036",
      "metadata": {
        "id": "28817e2e-743a-40ca-be85-0bbdca441036"
      },
      "outputs": [],
      "source": [
        "label_encoder = LabelEncoder()\n",
        "X_train.dropna(inplace=True)\n",
        "for col in [\"Sex\",\"Ticket\",\"Embarked\"]:\n",
        "    X_train[col] = label_encoder.fit_transform(X_train[col])"
      ]
    },
    {
      "cell_type": "code",
      "execution_count": null,
      "id": "96fa0b28-d3a2-462c-a156-cf804577f3a3",
      "metadata": {
        "id": "96fa0b28-d3a2-462c-a156-cf804577f3a3",
        "outputId": "123b7983-8424-4a74-d548-e4c64a38c4a1"
      },
      "outputs": [
        {
          "name": "stdout",
          "output_type": "stream",
          "text": [
            "<class 'pandas.core.frame.DataFrame'>\n",
            "Int64Index: 712 entries, 1 to 891\n",
            "Data columns (total 9 columns):\n",
            " #   Column    Non-Null Count  Dtype  \n",
            "---  ------    --------------  -----  \n",
            " 0   Survived  712 non-null    float64\n",
            " 1   Pclass    712 non-null    int64  \n",
            " 2   Sex       712 non-null    int32  \n",
            " 3   Age       712 non-null    float64\n",
            " 4   SibSp     712 non-null    int64  \n",
            " 5   Parch     712 non-null    int64  \n",
            " 6   Ticket    712 non-null    int32  \n",
            " 7   Fare      712 non-null    float64\n",
            " 8   Embarked  712 non-null    int32  \n",
            "dtypes: float64(3), int32(3), int64(3)\n",
            "memory usage: 47.3 KB\n"
          ]
        }
      ],
      "source": [
        "X_train.info()"
      ]
    },
    {
      "cell_type": "code",
      "execution_count": null,
      "id": "bb96e829-f56e-41ca-a3dc-bccd7ae742a2",
      "metadata": {
        "id": "bb96e829-f56e-41ca-a3dc-bccd7ae742a2",
        "outputId": "d6ced935-6a06-4b7a-b3a3-3f6c812c02f9"
      },
      "outputs": [
        {
          "data": {
            "image/png": "[encoded data removed]",
            "text/plain": [
              "<Figure size 1000x600 with 1 Axes>"
            ]
          },
          "metadata": {},
          "output_type": "display_data"
        }
      ],
      "source": [
        "from sklearn.ensemble import RandomForestRegressor\n",
        "X1 = X_train.drop(['Survived'], axis=1)  # Features\n",
        "y1 = X_train['Survived']  # Target variable\n",
        "# 'X' contains our features and 'y' is our target variable\n",
        "model = RandomForestRegressor()\n",
        "model.fit(X1, y1)\n",
        "\n",
        "importances = model.feature_importances_\n",
        "feature_importances_df = pd.DataFrame({'Feature': X1.columns, 'Importance': importances})\n",
        "feature_importances_df = feature_importances_df.sort_values('Importance', ascending=False)\n",
        "\n",
        "# Plot feature importances\n",
        "plt.figure(figsize=(10, 6))\n",
        "plt.barh(feature_importances_df['Feature'], feature_importances_df['Importance'])\n",
        "plt.xlabel('Importance')\n",
        "plt.ylabel('Feature')\n",
        "plt.title('Feature Importances')\n",
        "plt.show()"
      ]
    },
    {
      "cell_type": "code",
      "execution_count": null,
      "id": "2e76c991-dc9b-4aa3-9e42-f1cab5f5cb93",
      "metadata": {
        "id": "2e76c991-dc9b-4aa3-9e42-f1cab5f5cb93",
        "outputId": "630c3abf-9086-448d-d8d4-fa4bdf3a404d"
      },
      "outputs": [
        {
          "data": {
            "text/html": [
              "<div>\n",
              "<style scoped>\n",
              "    .dataframe tbody tr th:only-of-type {\n",
              "        vertical-align: middle;\n",
              "    }\n",
              "\n",
              "    .dataframe tbody tr th {\n",
              "        vertical-align: top;\n",
              "    }\n",
              "\n",
              "    .dataframe thead th {\n",
              "        text-align: right;\n",
              "    }\n",
              "</style>\n",
              "<table border=\"1\" class=\"dataframe\">\n",
              "  <thead>\n",
              "    <tr style=\"text-align: right;\">\n",
              "      <th></th>\n",
              "      <th>Feature</th>\n",
              "      <th>Importance</th>\n",
              "    </tr>\n",
              "  </thead>\n",
              "  <tbody>\n",
              "    <tr>\n",
              "      <th>1</th>\n",
              "      <td>Sex</td>\n",
              "      <td>0.286179</td>\n",
              "    </tr>\n",
              "    <tr>\n",
              "      <th>5</th>\n",
              "      <td>Ticket</td>\n",
              "      <td>0.209576</td>\n",
              "    </tr>\n",
              "    <tr>\n",
              "      <th>2</th>\n",
              "      <td>Age</td>\n",
              "      <td>0.192223</td>\n",
              "    </tr>\n",
              "    <tr>\n",
              "      <th>6</th>\n",
              "      <td>Fare</td>\n",
              "      <td>0.134844</td>\n",
              "    </tr>\n",
              "    <tr>\n",
              "      <th>0</th>\n",
              "      <td>Pclass</td>\n",
              "      <td>0.107240</td>\n",
              "    </tr>\n",
              "    <tr>\n",
              "      <th>3</th>\n",
              "      <td>SibSp</td>\n",
              "      <td>0.047048</td>\n",
              "    </tr>\n",
              "    <tr>\n",
              "      <th>4</th>\n",
              "      <td>Parch</td>\n",
              "      <td>0.011756</td>\n",
              "    </tr>\n",
              "    <tr>\n",
              "      <th>7</th>\n",
              "      <td>Embarked</td>\n",
              "      <td>0.011134</td>\n",
              "    </tr>\n",
              "  </tbody>\n",
              "</table>\n",
              "</div>"
            ],
            "text/plain": [
              "    Feature  Importance\n",
              "1       Sex    0.286179\n",
              "5    Ticket    0.209576\n",
              "2       Age    0.192223\n",
              "6      Fare    0.134844\n",
              "0    Pclass    0.107240\n",
              "3     SibSp    0.047048\n",
              "4     Parch    0.011756\n",
              "7  Embarked    0.011134"
            ]
          },
          "execution_count": 36,
          "metadata": {},
          "output_type": "execute_result"
        }
      ],
      "source": [
        "feature_importances_df.head(8)"
      ]
    },
    {
      "cell_type": "markdown",
      "id": "b7478f78-dbe9-4353-85e3-308a5d0ad6ca",
      "metadata": {
        "id": "b7478f78-dbe9-4353-85e3-308a5d0ad6ca"
      },
      "source": [
        "> All features tend to be important on this feature importance above"
      ]
    },
    {
      "cell_type": "markdown",
      "id": "3e999bab-3226-4604-8586-e43483782bc7",
      "metadata": {
        "id": "3e999bab-3226-4604-8586-e43483782bc7"
      },
      "source": [
        "## Test set"
      ]
    },
    {
      "cell_type": "markdown",
      "id": "7d046ce4-014e-4e0c-8219-692d60a636e4",
      "metadata": {
        "id": "7d046ce4-014e-4e0c-8219-692d60a636e4"
      },
      "source": [
        "> Categorical features.\n",
        "* label encoder changes the category to numerical representation."
      ]
    },
    {
      "cell_type": "code",
      "execution_count": null,
      "id": "928ab752-14d6-45e6-9f1a-f950536c1a3e",
      "metadata": {
        "tags": [],
        "id": "928ab752-14d6-45e6-9f1a-f950536c1a3e"
      },
      "outputs": [],
      "source": [
        "label_encoder = LabelEncoder()\n",
        "for col in [\"Sex\",\"Ticket\",\"Embarked\"]:\n",
        "    X_test[col] = label_encoder.fit_transform(X_test[col])"
      ]
    },
    {
      "cell_type": "code",
      "execution_count": null,
      "id": "0119e81b-3b91-404d-a1e9-f9a00f8f402b",
      "metadata": {
        "id": "0119e81b-3b91-404d-a1e9-f9a00f8f402b",
        "outputId": "27ccb1af-3f96-441d-c419-e8ee6151ac13"
      },
      "outputs": [
        {
          "data": {
            "text/html": [
              "<div>\n",
              "<style scoped>\n",
              "    .dataframe tbody tr th:only-of-type {\n",
              "        vertical-align: middle;\n",
              "    }\n",
              "\n",
              "    .dataframe tbody tr th {\n",
              "        vertical-align: top;\n",
              "    }\n",
              "\n",
              "    .dataframe thead th {\n",
              "        text-align: right;\n",
              "    }\n",
              "</style>\n",
              "<table border=\"1\" class=\"dataframe\">\n",
              "  <thead>\n",
              "    <tr style=\"text-align: right;\">\n",
              "      <th></th>\n",
              "      <th>Pclass</th>\n",
              "      <th>Sex</th>\n",
              "      <th>Age</th>\n",
              "      <th>SibSp</th>\n",
              "      <th>Parch</th>\n",
              "      <th>Ticket</th>\n",
              "      <th>Fare</th>\n",
              "      <th>Embarked</th>\n",
              "    </tr>\n",
              "    <tr>\n",
              "      <th>PassengerId</th>\n",
              "      <th></th>\n",
              "      <th></th>\n",
              "      <th></th>\n",
              "      <th></th>\n",
              "      <th></th>\n",
              "      <th></th>\n",
              "      <th></th>\n",
              "      <th></th>\n",
              "    </tr>\n",
              "  </thead>\n",
              "  <tbody>\n",
              "    <tr>\n",
              "      <th>892</th>\n",
              "      <td>3</td>\n",
              "      <td>1</td>\n",
              "      <td>34.5</td>\n",
              "      <td>0</td>\n",
              "      <td>0</td>\n",
              "      <td>152</td>\n",
              "      <td>7.8292</td>\n",
              "      <td>1</td>\n",
              "    </tr>\n",
              "    <tr>\n",
              "      <th>893</th>\n",
              "      <td>3</td>\n",
              "      <td>0</td>\n",
              "      <td>47.0</td>\n",
              "      <td>1</td>\n",
              "      <td>0</td>\n",
              "      <td>221</td>\n",
              "      <td>7.0000</td>\n",
              "      <td>2</td>\n",
              "    </tr>\n",
              "    <tr>\n",
              "      <th>894</th>\n",
              "      <td>2</td>\n",
              "      <td>1</td>\n",
              "      <td>62.0</td>\n",
              "      <td>0</td>\n",
              "      <td>0</td>\n",
              "      <td>73</td>\n",
              "      <td>9.6875</td>\n",
              "      <td>1</td>\n",
              "    </tr>\n",
              "    <tr>\n",
              "      <th>895</th>\n",
              "      <td>3</td>\n",
              "      <td>1</td>\n",
              "      <td>27.0</td>\n",
              "      <td>0</td>\n",
              "      <td>0</td>\n",
              "      <td>147</td>\n",
              "      <td>8.6625</td>\n",
              "      <td>2</td>\n",
              "    </tr>\n",
              "    <tr>\n",
              "      <th>896</th>\n",
              "      <td>3</td>\n",
              "      <td>0</td>\n",
              "      <td>22.0</td>\n",
              "      <td>1</td>\n",
              "      <td>1</td>\n",
              "      <td>138</td>\n",
              "      <td>12.2875</td>\n",
              "      <td>2</td>\n",
              "    </tr>\n",
              "  </tbody>\n",
              "</table>\n",
              "</div>"
            ],
            "text/plain": [
              "             Pclass  Sex   Age  SibSp  Parch  Ticket     Fare  Embarked\n",
              "PassengerId                                                            \n",
              "892               3    1  34.5      0      0     152   7.8292         1\n",
              "893               3    0  47.0      1      0     221   7.0000         2\n",
              "894               2    1  62.0      0      0      73   9.6875         1\n",
              "895               3    1  27.0      0      0     147   8.6625         2\n",
              "896               3    0  22.0      1      1     138  12.2875         2"
            ]
          },
          "execution_count": 38,
          "metadata": {},
          "output_type": "execute_result"
        }
      ],
      "source": [
        "X_test = X_test.drop(['Survived'], axis=1)\n",
        "X_test.head()"
      ]
    },
    {
      "cell_type": "markdown",
      "id": "760e7d75-76e6-4347-b045-a3afb9764301",
      "metadata": {
        "id": "760e7d75-76e6-4347-b045-a3afb9764301"
      },
      "source": [
        "> Dealing with Data imbalance"
      ]
    },
    {
      "cell_type": "code",
      "execution_count": null,
      "id": "d53839e1-b2c2-4abc-bd42-7a0807cea597",
      "metadata": {
        "id": "d53839e1-b2c2-4abc-bd42-7a0807cea597",
        "outputId": "b4b66771-def6-4b12-b28b-affe6473c66d"
      },
      "outputs": [
        {
          "name": "stdout",
          "output_type": "stream",
          "text": [
            "X_train_over shape: (848, 8)\n"
          ]
        }
      ],
      "source": [
        "over_sampler = RandomOverSampler(random_state=42)\n",
        "X_train_over, y_train_over = over_sampler.fit_resample(X1, y1)\n",
        "print(\"X_train_over shape:\", X_train_over.shape)"
      ]
    },
    {
      "cell_type": "markdown",
      "id": "1d92e2e8-5ea0-48a2-9cbf-5ad74807b4a1",
      "metadata": {
        "id": "1d92e2e8-5ea0-48a2-9cbf-5ad74807b4a1"
      },
      "source": [
        "* Checking if data imbalance is corrected( equal class presentation)"
      ]
    },
    {
      "cell_type": "code",
      "execution_count": null,
      "id": "8fc469e4-b357-4b6e-a81b-2f440947f1bf",
      "metadata": {
        "id": "8fc469e4-b357-4b6e-a81b-2f440947f1bf",
        "outputId": "eda1c7d2-391c-43b2-dd15-b5fbe281629c"
      },
      "outputs": [
        {
          "name": "stdout",
          "output_type": "stream",
          "text": [
            "Counter({0.0: 424, 1.0: 424})\n"
          ]
        }
      ],
      "source": [
        "import collections\n",
        "\n",
        "# Count class occurrences\n",
        "counter = collections.Counter(y_train_over)\n",
        "print(counter)"
      ]
    },
    {
      "cell_type": "markdown",
      "id": "10015fe3-3d29-4a09-8210-b0477e4832d2",
      "metadata": {
        "id": "10015fe3-3d29-4a09-8210-b0477e4832d2"
      },
      "source": [
        "## Scaling"
      ]
    },
    {
      "cell_type": "markdown",
      "id": "47de9243-408d-4f26-bb8d-0349a64f4796",
      "metadata": {
        "id": "47de9243-408d-4f26-bb8d-0349a64f4796"
      },
      "source": [
        "* Data is scaled to avoid overcomplexity to the model by big different data range. This scaler fits data between 0-1"
      ]
    },
    {
      "cell_type": "code",
      "execution_count": null,
      "id": "560896d4-176e-4ffc-9c90-0f07f98f45e5",
      "metadata": {
        "id": "560896d4-176e-4ffc-9c90-0f07f98f45e5"
      },
      "outputs": [],
      "source": [
        "scaler = StandardScaler()\n",
        "# Fit and transform the training data\n",
        "X_train_scaled_over = pd.DataFrame(scaler.fit_transform(X_train_over), columns=X_train_over.columns)\n",
        "#  Data NOT Resampled\n",
        "X_scaled = pd.DataFrame(scaler.fit_transform(X1), columns=X1.columns)"
      ]
    },
    {
      "cell_type": "code",
      "execution_count": null,
      "id": "f8445194-6b3f-483c-ae46-285542701803",
      "metadata": {
        "id": "f8445194-6b3f-483c-ae46-285542701803"
      },
      "outputs": [],
      "source": [
        "scaler = StandardScaler()\n",
        "# Transform the test data using the same scaler\n",
        "X_test_scaled_over = pd.DataFrame(scaler.fit_transform(X_test), columns=X_test.columns)"
      ]
    },
    {
      "cell_type": "code",
      "execution_count": null,
      "id": "d1ee5089-0fe4-4377-a58f-218ae2b11213",
      "metadata": {
        "id": "d1ee5089-0fe4-4377-a58f-218ae2b11213"
      },
      "outputs": [],
      "source": [
        "c =['Survived']\n",
        "y_test = pd.DataFrame(gender[c])"
      ]
    },
    {
      "cell_type": "code",
      "execution_count": null,
      "id": "8aceae46-5a98-453f-ae8d-fbc2cda24401",
      "metadata": {
        "id": "8aceae46-5a98-453f-ae8d-fbc2cda24401",
        "outputId": "897a1740-52b9-41dc-e444-d7fbe3c2f13c"
      },
      "outputs": [
        {
          "data": {
            "text/html": [
              "<div>\n",
              "<style scoped>\n",
              "    .dataframe tbody tr th:only-of-type {\n",
              "        vertical-align: middle;\n",
              "    }\n",
              "\n",
              "    .dataframe tbody tr th {\n",
              "        vertical-align: top;\n",
              "    }\n",
              "\n",
              "    .dataframe thead th {\n",
              "        text-align: right;\n",
              "    }\n",
              "</style>\n",
              "<table border=\"1\" class=\"dataframe\">\n",
              "  <thead>\n",
              "    <tr style=\"text-align: right;\">\n",
              "      <th></th>\n",
              "      <th>Survived</th>\n",
              "    </tr>\n",
              "    <tr>\n",
              "      <th>PassengerId</th>\n",
              "      <th></th>\n",
              "    </tr>\n",
              "  </thead>\n",
              "  <tbody>\n",
              "    <tr>\n",
              "      <th>892</th>\n",
              "      <td>0</td>\n",
              "    </tr>\n",
              "    <tr>\n",
              "      <th>893</th>\n",
              "      <td>1</td>\n",
              "    </tr>\n",
              "    <tr>\n",
              "      <th>894</th>\n",
              "      <td>0</td>\n",
              "    </tr>\n",
              "    <tr>\n",
              "      <th>895</th>\n",
              "      <td>0</td>\n",
              "    </tr>\n",
              "    <tr>\n",
              "      <th>896</th>\n",
              "      <td>1</td>\n",
              "    </tr>\n",
              "  </tbody>\n",
              "</table>\n",
              "</div>"
            ],
            "text/plain": [
              "             Survived\n",
              "PassengerId          \n",
              "892                 0\n",
              "893                 1\n",
              "894                 0\n",
              "895                 0\n",
              "896                 1"
            ]
          },
          "execution_count": 44,
          "metadata": {},
          "output_type": "execute_result"
        }
      ],
      "source": [
        "y_test.head(5)"
      ]
    },
    {
      "cell_type": "markdown",
      "id": "f663cb46-29e9-460e-9ea6-c3f37aa41b51",
      "metadata": {
        "id": "f663cb46-29e9-460e-9ea6-c3f37aa41b51"
      },
      "source": [
        " > Checking data shapes.\n",
        " >"
      ]
    },
    {
      "cell_type": "code",
      "execution_count": null,
      "id": "b89989d7-3356-4ebb-9a33-fc6d9aa5d7bb",
      "metadata": {
        "id": "b89989d7-3356-4ebb-9a33-fc6d9aa5d7bb",
        "outputId": "2ef1f95a-6c82-4e89-cc6b-8f7a1376b4e1"
      },
      "outputs": [
        {
          "data": {
            "text/plain": [
              "(418, 8)"
            ]
          },
          "execution_count": 45,
          "metadata": {},
          "output_type": "execute_result"
        }
      ],
      "source": [
        "X_test_scaled_over.shape"
      ]
    },
    {
      "cell_type": "code",
      "execution_count": null,
      "id": "ba59af53-38df-43f7-b0b5-1ca968e7ac9d",
      "metadata": {
        "id": "ba59af53-38df-43f7-b0b5-1ca968e7ac9d",
        "outputId": "6aa474ac-99b8-4038-f1c9-df1d57aed6ff"
      },
      "outputs": [
        {
          "data": {
            "text/plain": [
              "(712, 8)"
            ]
          },
          "execution_count": 46,
          "metadata": {},
          "output_type": "execute_result"
        }
      ],
      "source": [
        "X_scaled.shape"
      ]
    },
    {
      "cell_type": "code",
      "execution_count": null,
      "id": "6703c6b7-035a-4da6-8db1-9726a15c8579",
      "metadata": {
        "id": "6703c6b7-035a-4da6-8db1-9726a15c8579",
        "outputId": "4a00ac01-f367-4c74-edb2-41fbead7bacd"
      },
      "outputs": [
        {
          "data": {
            "text/plain": [
              "(418, 1)"
            ]
          },
          "execution_count": 47,
          "metadata": {},
          "output_type": "execute_result"
        }
      ],
      "source": [
        "y_test.shape"
      ]
    },
    {
      "cell_type": "code",
      "execution_count": null,
      "id": "616a89a5-bb49-4b93-93e8-b798b57f68f3",
      "metadata": {
        "id": "616a89a5-bb49-4b93-93e8-b798b57f68f3",
        "outputId": "7db84534-1c60-47be-be51-94bdddfccb0e"
      },
      "outputs": [
        {
          "data": {
            "text/plain": [
              "(418, 1)"
            ]
          },
          "execution_count": 48,
          "metadata": {},
          "output_type": "execute_result"
        }
      ],
      "source": [
        "gender.shape"
      ]
    },
    {
      "cell_type": "code",
      "execution_count": null,
      "id": "416bb562-2c6e-4f2e-944d-0149ada18df8",
      "metadata": {
        "id": "416bb562-2c6e-4f2e-944d-0149ada18df8",
        "outputId": "1086ae09-8f84-4646-c929-0a8efa51560d"
      },
      "outputs": [
        {
          "data": {
            "text/plain": [
              "(418, 8)"
            ]
          },
          "execution_count": 49,
          "metadata": {},
          "output_type": "execute_result"
        }
      ],
      "source": [
        "X_test.shape"
      ]
    },
    {
      "cell_type": "markdown",
      "id": "fc599955-3263-447a-8ee5-c831251ec158",
      "metadata": {
        "id": "fc599955-3263-447a-8ee5-c831251ec158"
      },
      "source": [
        "# Model Building."
      ]
    },
    {
      "cell_type": "code",
      "execution_count": null,
      "id": "a02ecfeb-c580-492e-9a2f-67bbba623b21",
      "metadata": {
        "id": "a02ecfeb-c580-492e-9a2f-67bbba623b21",
        "outputId": "0078d3fc-5716-4523-9388-8b3423a13503"
      },
      "outputs": [
        {
          "name": "stdout",
          "output_type": "stream",
          "text": [
            "Baseline Accuracy: 0.5\n"
          ]
        }
      ],
      "source": [
        "majority_class = y.mode()[0]\n",
        "baseline_accuracy = (y_train_over == majority_class).mean()\n",
        "print(\"Baseline Accuracy:\", baseline_accuracy)"
      ]
    },
    {
      "cell_type": "markdown",
      "id": "a8612cff-5008-4420-a0c5-6062edbbde29",
      "metadata": {
        "id": "a8612cff-5008-4420-a0c5-6062edbbde29"
      },
      "source": [
        "## a) XGBoostClassifier."
      ]
    },
    {
      "cell_type": "code",
      "execution_count": null,
      "id": "7aa2d137-9da4-422a-b0b2-6ae5f5df3036",
      "metadata": {
        "id": "7aa2d137-9da4-422a-b0b2-6ae5f5df3036",
        "outputId": "6e4f6059-47c8-4953-aa9d-3a62aa5647f7"
      },
      "outputs": [
        {
          "name": "stdout",
          "output_type": "stream",
          "text": [
            "Fitting 10 folds for each of 6 candidates, totalling 60 fits\n",
            "LR ROC AUC: 1.0\n",
            "Accuracy: 1.0000\n"
          ]
        }
      ],
      "source": [
        "import os\n",
        "os.environ[\"XLA_FLAGS\"] = \"--xla_cpu_multi_thread_eigen=false intra_op_parallelism_threads=1\"\n",
        "# oversampled data model.\n",
        "pipe = Pipeline([\n",
        "    ('scaling', FunctionTransformer(lambda x:x)),\n",
        "    ('xgboost', XGBClassifier(objective= 'binary:logistic'))\n",
        "])\n",
        "\n",
        "parameters = {'xgboost__max_depth': [400],\n",
        "              'xgboost__n_estimators' : [100, 200],\n",
        "              'xgboost__learning_rate' : [0.001],\n",
        "              'xgboost__tree_method': ['exact', 'approx', 'hist'],\n",
        "              'xgboost__min_child_weight': [2],\n",
        "              'xgboost__gamma': [4]\n",
        "              }\n",
        "\n",
        "\n",
        "gs = GridSearchCV(pipe, parameters, cv=10, scoring='roc_auc', n_jobs=-1, verbose=10)\n",
        "\n",
        "gs.fit(X_train_over, y_train_over)\n",
        "\n",
        "best_model = gs.best_estimator_\n",
        "y_test_proba = best_model.predict_proba(X_test_scaled_over)\n",
        "y_pred = best_model.predict(X_test_scaled_over)\n",
        "accuracy = accuracy_score(gender['Survived'], y_pred)\n",
        "print('LR ROC AUC:', roc_auc_score(gender['Survived'], y_test_proba[:, 1]))\n",
        "print(f\"Accuracy: {accuracy:.4f}\")"
      ]
    },
    {
      "cell_type": "code",
      "execution_count": null,
      "id": "22b8d415-f472-43a5-acfc-e6a29c4dcaae",
      "metadata": {
        "id": "22b8d415-f472-43a5-acfc-e6a29c4dcaae",
        "outputId": "afee893b-b7da-4174-c2a4-b32dd31676f6"
      },
      "outputs": [
        {
          "data": {
            "text/plain": [
              "<sklearn.metrics._plot.confusion_matrix.ConfusionMatrixDisplay at 0x28cce99feb0>"
            ]
          },
          "execution_count": 52,
          "metadata": {},
          "output_type": "execute_result"
        },
        {
          "data": {
            "image/png": "[encoded data removed]",
            "text/plain": [
              "<Figure size 640x480 with 2 Axes>"
            ]
          },
          "metadata": {},
          "output_type": "display_data"
        }
      ],
      "source": [
        "ConfusionMatrixDisplay.from_estimator(best_model, X_test, gender['Survived'])"
      ]
    },
    {
      "cell_type": "code",
      "execution_count": null,
      "id": "c8c25af8-23ff-4061-ac4a-bd7d530a1df2",
      "metadata": {
        "id": "c8c25af8-23ff-4061-ac4a-bd7d530a1df2",
        "outputId": "147244bb-9112-499e-9f57-30125bc0050c"
      },
      "outputs": [
        {
          "data": {
            "text/plain": [
              "(0.0, 1.05)"
            ]
          },
          "execution_count": 53,
          "metadata": {},
          "output_type": "execute_result"
        },
        {
          "data": {
            "image/png": "[encoded data removed]",
            "text/plain": [
              "<Figure size 640x480 with 1 Axes>"
            ]
          },
          "metadata": {},
          "output_type": "display_data"
        }
      ],
      "source": [
        "y_pred_proba = best_model.predict_proba(X_test)[:, 1]  # Probabilities of class 1\n",
        "fpr, tpr, thresholds = roc_curve(gender['Survived'], y_pred)\n",
        "roc_auc = auc(fpr, tpr)\n",
        "\n",
        "plt.figure()\n",
        "plt.plot(fpr, tpr, color='darkorange', lw=2, label='ROC curve (area = %0.2f)' % roc_auc)\n",
        "plt.plot([0, 1], [0, 1], color='navy', lw=2, linestyle='--')\n",
        "plt.xlim([0.0, 1.0])\n",
        "plt.ylim([0.0, 1.05])"
      ]
    },
    {
      "cell_type": "code",
      "execution_count": null,
      "id": "a38dfca2-ae37-4089-ae21-3d971747ac8e",
      "metadata": {
        "id": "a38dfca2-ae37-4089-ae21-3d971747ac8e",
        "outputId": "3eb13036-9b46-4c80-8625-0a9e68e91b8a"
      },
      "outputs": [
        {
          "name": "stdout",
          "output_type": "stream",
          "text": [
            "Precision: 0.6842105263157895\n",
            "F1 Score: 0.772823779193206\n"
          ]
        }
      ],
      "source": [
        "# Get the confusion matrix\n",
        "cm = confusion_matrix(y_test, best_model.predict(X_test))\n",
        "\n",
        "# True Positives (TP)\n",
        "TP = cm[0][0]\n",
        "\n",
        "# True Negatives (TN)\n",
        "TN = cm[1][1]\n",
        "\n",
        "# False Positives (FP)\n",
        "FP = cm[0][1]\n",
        "\n",
        "# False Negatives (FN)\n",
        "FN = cm[1][0]\n",
        "\n",
        "# Calculate precision\n",
        "precision = TP / (TP + FP)\n",
        "\n",
        "# Calculate F1 score\n",
        "recall = TP / (TP + FN)\n",
        "f1_score = 2 * (precision * recall) / (precision + recall)\n",
        "\n",
        "# Print results\n",
        "print(\"Precision:\", precision)\n",
        "print(\"F1 Score:\", f1_score)"
      ]
    },
    {
      "cell_type": "code",
      "execution_count": null,
      "id": "62c45dea-4de7-4957-8510-141d9cdf26a6",
      "metadata": {
        "id": "62c45dea-4de7-4957-8510-141d9cdf26a6",
        "outputId": "a9bfeda8-97bd-4d20-af7a-df57a6ab3f50"
      },
      "outputs": [
        {
          "name": "stdout",
          "output_type": "stream",
          "text": [
            "Your submission was successfully saved!\n"
          ]
        }
      ],
      "source": [
        "output = pd.DataFrame({'PassengerId': y_test.index, 'Survived': y_pred})\n",
        "output.to_csv('submission.csv', index=False)\n",
        "print(\"Your submission was successfully saved!\")"
      ]
    },
    {
      "cell_type": "code",
      "execution_count": null,
      "id": "87dfd51e-1b64-4970-8255-93d13c31522b",
      "metadata": {
        "id": "87dfd51e-1b64-4970-8255-93d13c31522b"
      },
      "outputs": [],
      "source": [
        "sub = pd.read_csv(\"submission.csv\")"
      ]
    },
    {
      "cell_type": "code",
      "execution_count": null,
      "id": "baa07bb7-d544-4974-9f1b-2e4321c2ace6",
      "metadata": {
        "id": "baa07bb7-d544-4974-9f1b-2e4321c2ace6",
        "outputId": "69e27f87-cbba-4d59-ae7a-66b947c4eabb"
      },
      "outputs": [
        {
          "data": {
            "text/html": [
              "<div>\n",
              "<style scoped>\n",
              "    .dataframe tbody tr th:only-of-type {\n",
              "        vertical-align: middle;\n",
              "    }\n",
              "\n",
              "    .dataframe tbody tr th {\n",
              "        vertical-align: top;\n",
              "    }\n",
              "\n",
              "    .dataframe thead th {\n",
              "        text-align: right;\n",
              "    }\n",
              "</style>\n",
              "<table border=\"1\" class=\"dataframe\">\n",
              "  <thead>\n",
              "    <tr style=\"text-align: right;\">\n",
              "      <th></th>\n",
              "      <th>PassengerId</th>\n",
              "      <th>Survived</th>\n",
              "    </tr>\n",
              "  </thead>\n",
              "  <tbody>\n",
              "    <tr>\n",
              "      <th>0</th>\n",
              "      <td>892</td>\n",
              "      <td>0</td>\n",
              "    </tr>\n",
              "    <tr>\n",
              "      <th>1</th>\n",
              "      <td>893</td>\n",
              "      <td>1</td>\n",
              "    </tr>\n",
              "    <tr>\n",
              "      <th>2</th>\n",
              "      <td>894</td>\n",
              "      <td>0</td>\n",
              "    </tr>\n",
              "    <tr>\n",
              "      <th>3</th>\n",
              "      <td>895</td>\n",
              "      <td>0</td>\n",
              "    </tr>\n",
              "    <tr>\n",
              "      <th>4</th>\n",
              "      <td>896</td>\n",
              "      <td>1</td>\n",
              "    </tr>\n",
              "  </tbody>\n",
              "</table>\n",
              "</div>"
            ],
            "text/plain": [
              "   PassengerId  Survived\n",
              "0          892         0\n",
              "1          893         1\n",
              "2          894         0\n",
              "3          895         0\n",
              "4          896         1"
            ]
          },
          "execution_count": 57,
          "metadata": {},
          "output_type": "execute_result"
        }
      ],
      "source": [
        "sub.head()"
      ]
    },
    {
      "cell_type": "code",
      "execution_count": null,
      "id": "665cb0a4-2c27-422e-bb6e-46080a9bcf3b",
      "metadata": {
        "id": "665cb0a4-2c27-422e-bb6e-46080a9bcf3b"
      },
      "outputs": [],
      "source": []
    }
  ],
  "metadata": {
    "kernelspec": {
      "display_name": "Python 3 (ipykernel)",
      "language": "python",
      "name": "python3"
    },
    "language_info": {
      "codemirror_mode": {
        "name": "ipython",
        "version": 3
      },
      "file_extension": ".py",
      "mimetype": "text/x-python",
      "name": "python",
      "nbconvert_exporter": "python",
      "pygments_lexer": "ipython3",
      "version": "3.10.9"
    },
    "toc-autonumbering": true,
    "colab": {
      "provenance": [],
      "include_colab_link": true
    }
  },
  "nbformat": 4,
  "nbformat_minor": 5
}